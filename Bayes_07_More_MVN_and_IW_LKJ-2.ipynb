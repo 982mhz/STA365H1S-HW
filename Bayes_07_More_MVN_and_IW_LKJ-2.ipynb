{
 "cells": [
  {
   "cell_type": "markdown",
   "id": "16b06008",
   "metadata": {},
   "source": [
    "# More Multivariate Normal Things\n"
   ]
  },
  {
   "cell_type": "markdown",
   "id": "3dc32be4",
   "metadata": {},
   "source": [
    "## What is not Multivariate Regression\n",
    "\n",
    "--- \n",
    "\n",
    "Rather than $\\mathbf{y}_{n\\times 1} \\sim \\mathcal{MVN}(\\mathbf{X}_{n\\times p}\\boldsymbol{\\beta}_{p\\times 1}, \\Sigma_{n\\times n} = \\sigma^2I_{n\\times n})$\n",
    "\n",
    "- where we used a multivariate $\\mathcal{MVN}(\\underset{p \\times 1}{\\boldsymbol\\beta_0}, \\underset{p \\times p}{\\Sigma_\\beta})$ prior fo  $\\boldsymbol \\beta_{p\\times 1}$ \n",
    "- and a univariate prior for precision $\\phi = \\sigma^{-2}$ or variance $\\sigma^2$ such as $\\text{gamma}(a,b)$ or $\\mathcal{IG}(a,b)$\n",
    "\n",
    "what about $\\underset{m\\times 1}{\\mathbf{y}_i} \\overset{iid}{\\sim} \\mathcal{MVN}(\\boldsymbol{\\beta}_{m\\times p}^\\top \\underset{p\\times 1}{\\mathbf{x}_i},  \\Sigma_{m\\times m} \\neq \\sigma^2I_{n\\times n})$ which models\n",
    "\n",
    "- $\\underset{n\\times m}{\\mathbf{y}}$ with\n",
    "    - $E[\\underset{n\\times p}{\\mathbf{y}}| \\underset{n\\times m}{\\mathbf{X}} ] = \\underset{n\\times p}{\\mathbf{X}}\\boldsymbol{\\beta}_{p\\times m}$\n",
    "    - $COV[\\underset{\\text{both } m\\times 1}{\\mathbf{y}_i, \\mathbf{y}_j}] = \\Sigma_{m\\times m} $\n"
   ]
  },
  {
   "cell_type": "markdown",
   "id": "41d5c005",
   "metadata": {},
   "source": [
    "The **likelihood** is\n",
    "   \n",
    "$\\begin{align*}\n",
    "f(\\underset{n\\times m}{\\mathbf{y}}|\\underset{n\\times p}{\\mathbf{X}}, \\boldsymbol{\\beta}_{p\\times m}, \\Sigma_{m\\times m})\n",
    "& ={} \\prod_{i=1}^n (2\\pi )^{-m/2}\\det(\\Sigma_{m\\times m})^{-1/2}\\,\\exp \\left(-{\\frac {1}{2}}(\\underset{m\\times 1}{\\mathbf{y}_i} - \\boldsymbol{\\beta}_{m\\times p}^\\top \\underset{p\\times 1}{\\mathbf{x}_i} )^\\top \\Sigma_{m\\times m}^{-1}(\\underset{m\\times 1}{\\mathbf{y}_i} - \\boldsymbol{\\beta}_{m\\times p}^\\top \\underset{p\\times 1}{\\mathbf{x}_i} )\\right)\\\\ \n",
    "& \\propto{} \\det({ {\\Sigma }})^{-n/2}\\,\\exp \\left(\\sum_{i=1}^n -{\\frac {1}{2}}(\\underset{m\\times 1}{\\mathbf{y}_i} - \\boldsymbol{\\beta}_{m\\times p}^\\top \\underset{p\\times 1}{\\mathbf{x}_i} )^\\top\\Sigma_{m\\times m}^{-1}(\\underset{m\\times 1}{\\mathbf{y}_i} - \\boldsymbol{\\beta}_{m\\times p}^\\top \\underset{p\\times 1}{\\mathbf{x}_i} )\\right)\\\\ \n",
    "& \\quad\\; \\text{The trace of a square matrix is the sum of its diagonal elements}\\\\\n",
    "& = \\det({ {\\Sigma }})^{-n/2}\\,\\exp \\left(-\\frac{1}{2} \\text{trace}\\big((\\underset{n\\times m}{\\mathbf{y}} - \\underset{n\\times p}{\\mathbf{X}}\\boldsymbol{\\beta}_{p\\times m}) \\Sigma_{m\\times m}^{-1} (\\underset{n\\times m}{\\mathbf{y}} - \\underset{n\\times p}{\\mathbf{X}}\\boldsymbol{\\beta}_{p\\times m})^\\top\\big)\\right)\\\\ \n",
    "& = \\det({ {\\Sigma }})^{-n/2}\\,\\exp \\overset{\\Large \\text{trace}(ABC) \\; = \\;  \\text{trace}(CAB)}{\\left( -\\frac{1}{2} \\text{trace}\\big((\\underset{n\\times m}{\\mathbf{y}} - \\underset{n\\times p}{\\mathbf{X}}\\boldsymbol{\\beta}_{p\\times m})^\\top(\\underset{n\\times m}{\\mathbf{y}} - \\underset{n\\times p}{\\mathbf{X}}\\boldsymbol{\\beta}_{p\\times m}) \\Sigma_{m\\times m}^{-1} \\big)\\right)}\\\\ \n",
    "& = \\det({\\Sigma})^{-n/2}\\,\\exp \\left( -\\frac{1}{2} \\text{trace}\\big(\\underset{\\text{both } m\\times m}{\\boldsymbol \\epsilon^\\top \\boldsymbol \\epsilon} \\underset{m\\times m}{\\Sigma^{-1}}\\big)\\right)\\\\ \n",
    "& = \\det({\\Sigma})^{-n/2}\\,\\exp \\left( -\\frac{1}{2} \\text{trace}\\big( \\tilde{\\underset{m\\times m}{\\boldsymbol \\Psi}} \\underset{m\\times m}{\\Sigma^{-1}}\\big) \\right)\\\\ \n",
    "& \\propto {}\n",
    "\\mathcal{W}^{-1}\\left({\\mathbf\\Psi} = \\tilde{\\underset{m\\times m}{\\boldsymbol \\Psi}}, \\nu = n-m-1 \\right) \n",
    "\\end{align*}$\n",
    "\n",
    "an [Inverse-Wishart](https://en.wikipedia.org/wiki/Inverse-Wishart_distribution) distribution when viewed as a function of $\\Sigma$."
   ]
  },
  {
   "cell_type": "markdown",
   "id": "8d03fa55",
   "metadata": {},
   "source": [
    "\n",
    "## Inverse-Wishart Distributions\n",
    "\n",
    "---\n",
    "\n",
    "Thus for an **inverse Wishart** $\\mathcal{W}^{-1}\\left({\\mathbf\\Psi} = \\underset{m\\times m}{\\boldsymbol \\Psi_0}, \\nu = n_0 \\right)$ \n",
    " prior for covariance $\\Sigma_{m\\times m}$ the **full conditional**\n",
    "\n",
    "$\\begin{align*}\n",
    "f(\\Sigma_{m\\times m} | \\underset{n\\times m}{\\mathbf{y}},\\underset{n\\times p}{\\mathbf{X}}, \\boldsymbol{\\beta}_{p\\times m}) &\\propto{}\n",
    "f(\\underset{n\\times m}{\\mathbf{y}}|\\underset{n\\times p}{\\mathbf{X}}, \\boldsymbol{\\beta}_{p\\times m}, \\Sigma_{m\\times m}) \\times p(\\Sigma)\\\\\n",
    "&\\propto{} \n",
    "\\det({\\Sigma})^{-n/2}\\,\\exp \\left( -\\frac{1}{2} \\text{trace}\\big( \\tilde{\\underset{m\\times m}{\\boldsymbol \\Psi}} \\underset{m\\times m}{\\Sigma^{-1}}\\big) \\right) \\times \n",
    "\\det({\\Sigma})^{-(n_0+m+1)/2}\\,\\exp \\left( -\\frac{1}{2} \\text{trace}\\big( {\\underset{m\\times m}{\\boldsymbol \\Psi_0}} \\underset{m\\times m}{\\Sigma^{-1}}\\big) \\right)\\\\\n",
    "&\\propto{} \n",
    "\\det({\\Sigma})^{-(n+n_0+m+1)/2}\\,\\exp \\left( -\\frac{1}{2} \\text{trace}\\big( \\tilde{\\underset{m\\times m}{\\boldsymbol \\Psi}} \\underset{m\\times m}{\\Sigma^{-1}}\\big) -\\frac{1}{2} \\text{trace}\\big( {\\underset{m\\times m}{\\boldsymbol \\Psi_0}} \\underset{m\\times m}{\\Sigma^{-1}}\\big) \\right)\\\\\n",
    "&\\propto{} \n",
    "\\det({\\Sigma})^{-(n+n_0+m+1)/2}\\,\\exp \\left( -\\frac{1}{2} \\text{trace}\\Big( \\big( \\tilde{\\underset{m\\times m}{\\boldsymbol \\Psi}} + {\\underset{m\\times m}{\\boldsymbol \\Psi_0}} \\big) \\underset{m\\times m}{\\Sigma^{-1}} \\Big) \\right) \n",
    "\\end{align*}$\n",
    "\n",
    "is also seen to be an **inverse Wishart** $\\mathcal{W}^{-1}\\left({\\mathbf\\Psi} = \\tilde{\\underset{m\\times m}{\\boldsymbol \\Psi}} + \\underset{m\\times m}{\\boldsymbol \\Psi_0}, \\nu = n+n_0 \\right)$ \n",
    "\n",
    "---"
   ]
  },
  {
   "cell_type": "markdown",
   "id": "e2fc8620",
   "metadata": {},
   "source": [
    "## Conditional MVN distributions (are MVN distributions) \n",
    "\n",
    "For **MVN** $f( \\mathbf{\\tilde x} = (\\mathbf x,\\mathbf x^*) )$ \n",
    "\n",
    "$$p\\left(\\mathbf{\\tilde x}\\;\\Bigg|\\;\\boldsymbol \\mu = \\left[\\begin{array}{c} \\underset{q\\times1}{\\boldsymbol \\mu_{\\mathbf{ x}}}\\\\ \\underset{r\\times1}{\\boldsymbol \\mu_{\\mathbf{ x^*}}} \\end{array} \\right], \\boldsymbol \\Sigma = \\left[\\begin{array}{cc}  \\underset{q\\times q}{{\\boldsymbol {\\Sigma }}_{\\mathbf{x}}} &  \\underset{q\\times r}{{\\boldsymbol {\\Sigma }}_{\\mathbf{x},\\mathbf{x^*}}}\\\\  \\underset{r \\times q}{{\\boldsymbol {\\Sigma }}_{\\mathbf{x^*}\\!\\!,\\,\\mathbf{x}} =  {\\boldsymbol {\\Sigma }}_{\\mathbf{x},\\mathbf{x^*}}^T} &  \\underset{r\\times r}{{\\boldsymbol {\\Sigma }}_{\\mathbf{x*}}}\\end{array}\\right] \\right) = {\\frac {\\exp \\left(-{\\frac {1}{2}}\\left({\\mathbf {\\tilde x} }-{\\boldsymbol {\\mu }}\\right)^{\\mathrm {T} }{\\boldsymbol {\\Sigma }}^{-1}\\left({\\mathbf {\\tilde x} }-{\\boldsymbol {\\mu }}\\right)\\right)}{\\sqrt {(2\\pi )^{q+r}|{\\boldsymbol {\\Sigma }}|}}}$$\n",
    "\n",
    "the **conditional distribution** $f(\\mathbf x^* | \\mathbf x)$ of [is also **MVN**](https://en.wikipedia.org/wiki/Multivariate_normal_distribution#Conditional_distributions)\n",
    " \n",
    "$$\\mathbf{x^*} | \\mathbf x, \\boldsymbol \\mu, \\boldsymbol \\Sigma \\sim  \\mathcal{MVN}\\left( {\\bar {\\boldsymbol {\\mu }}}= \\underset{q\\times1}{{\\boldsymbol {\\mu }}_{\\mathbf{x^*}}}+ \\underset{q\\times r}{{\\boldsymbol {\\Sigma }}_{\\mathbf{x^*}\\!\\!,\\,\\mathbf{x}}}  \\underset{r\\times r}{{\\boldsymbol {\\Sigma}}^{-1}_{\\mathbf{x}}} \\underset{r\\times1}{\\left(\\mathbf {x} -{\\boldsymbol {\\mu }}_{\\mathbf{x}}\\right)},  {\\overline {\\boldsymbol {\\Sigma }}}= \\underset{q\\times q}{{\\boldsymbol {\\Sigma }}_{\\mathbf{x^*}}}- \\underset{q\\times r}{{\\boldsymbol {\\Sigma }}_{\\mathbf{x^*}\\!\\!,\\,\\mathbf{x}}}  \\underset{r\\times r}{{\\boldsymbol {\\Sigma }}_{\\mathbf{x}}^{-1}} \\underset{r\\times q}{{\\boldsymbol {\\Sigma }}_{\\mathbf{x},\\mathbf{x^*}}}  \\right)$$\n",
    "\n",
    "though if ${\\boldsymbol {\\Sigma }}_{\\mathbf{x^*}\\!\\!,\\,\\mathbf{x}} = \\mathbf{0}_{m \\times n}$ then $\\mathbf{x^*}$ is independent of $\\mathbf{x}$ \n"
   ]
  },
  {
   "cell_type": "markdown",
   "id": "48679a25",
   "metadata": {},
   "source": [
    "\n",
    "## What is Multivariate Regression?\n",
    "\n",
    "For\n",
    "\n",
    "- $y_{ik}$ the $k^{th}$ element of observation vector $\\textbf{y}_{i}$ \n",
    "- $\\textbf{y}_{i,-k}$ the vector of all other elements\n",
    "- $\\Sigma_{k,-k}$ the $k^{th}$ row without $\\sigma_k^2 = \\Sigma_{kk}$ and $\\Sigma_{-k,k}$ the same for columns\n",
    "- $\\Sigma_{-k,-k}$ the $\\Sigma$ matrix without the $k^{th}$ row and column \n",
    "- $\\boldsymbol \\beta_k$ the vector corresponding to the $k^{th}$ row if $\\boldsymbol \\beta$\n",
    "- $\\boldsymbol \\beta_{-k}$ the $\\boldsymbol \\beta$ without the $k^{th}$ row\n",
    "\n",
    "$\\begin{align*}\n",
    "p(y_{ik}|\\textbf{y}_{i,-k}, \\text{etc.}) &={} \\mathcal{N} (y_{ik}|\\textbf{x}_i^\\top \\boldsymbol \\beta_k + \\Sigma_{k,-k}\\Sigma_{-k,-k}^{-1} \\left( \\textbf{y}_{i,-k} - \\boldsymbol \\beta_{-k} \\textbf{x}_i \\right), \\sigma^2_k - \\Sigma_{k,-k}\\Sigma_{-k,-k}^{-1}\\Sigma_{-k,k})) \\\\\n",
    "&={} \\mathcal{N} (y_{ik}|\\textbf{x}_i^\\top \\boldsymbol \\beta_k + \\left( \\textbf{y}_{i,-k} - \\boldsymbol \\beta_{-k} \\textbf{x}_i \\right)^\\top \\Sigma_{-k,-k}^{-1}\\Sigma_{-k,k}, \\sigma^2_k - \\Sigma_{k,-k}\\Sigma_{-k,-k}^{-1}\\Sigma_{-k,k}) \n",
    "\\end{align*}$\n",
    "\n",
    "Thus for $\\underset{n\\times 1}{\\mathbf{y}_k}$ the $k^{th}$ column of $\\underset{n\\times m)}{\\mathbf{y}}$ and $\\underset{n\\times (m-1)}{\\mathbf{y}_{-k}}$ the matrix $\\underset{n\\times m}{\\mathbf{y}}$ without its $k^{th}$ column \n",
    "\n",
    "$\\begin{align*}\n",
    "\\prod_{i=1}^n p(y_{ik}|\\textbf{y}_{i,-k}, \\text{etc.}) &\\propto{} \\exp\\left(-\\frac{\\big(\\underset{n\\times 1}{\\mathbf{y}_k} - (\\underset{n\\times (m-1)}{\\mathbf{y}_{-k} - \\textbf{X} \\boldsymbol \\beta_{-k}} )\\underset{n\\times 1}{\\Sigma_{-k,-k}^{-1}\\Sigma_{-k,k}} - \\underset{n\\times 1}{\\textbf{X} \\boldsymbol \\beta_k} \\big)^{\\top}\\big(\\underset{n\\times 1}{\\mathbf{y}_k} - (\\underset{n\\times (m-1)}{\\mathbf{y}_{-k} - \\textbf{X} \\boldsymbol \\beta_{-k}} )\\underset{n\\times 1}{\\Sigma_{-k,-k}^{-1}\\Sigma_{-k,k}} - \\underset{n\\times 1}{\\textbf{X} \\boldsymbol \\beta_k} \\big)}{2(\\sigma^2_k - \\Sigma_{k,-k}\\Sigma_{-k,-k}^{-1}\\Sigma_{-k,k})} \\right) \n",
    "\\end{align*}$\n",
    "\n",
    "which is a **linear regression model** with an adjustment for the **residuals** of the other $k-1$ regression models based on the covariance structure of the outcomes $\\Sigma$\n"
   ]
  },
  {
   "cell_type": "markdown",
   "id": "eb29c194",
   "metadata": {},
   "source": [
    "\n",
    "\n",
    "While the outcomes are a little more complex than usual, when viewed as a function of the $k^{th}$ column $\\underset{p\\times 1}{\\boldsymbol{\\beta}_k}$ of $\\boldsymbol{\\beta}_{p\\times m}$ this is just a **standard linear regression model**\n",
    "\n",
    "Which suggests a multivariate $\\mathcal{MVN}(\\underset{p \\times 1}{\\boldsymbol\\beta_0}, \\underset{p \\times p}{\\Sigma_\\beta})$ prior for each $\\underset{p\\times 1}{\\boldsymbol{\\beta}_k}$\n",
    "\n",
    "$\\begin{align*}\n",
    "f(\\boldsymbol{\\beta}_{k} | \\underset{n\\times m}{\\mathbf{y}}, \\underset{n\\times p}{\\mathbf{X}}, \\underset{n\\times (m-1)}{\\boldsymbol \\beta_{-k}}, \\Sigma_{m\\times m}) \n",
    "& \\propto{} \\prod_{i=1}^n p(y_{ik}|\\textbf{y}_{i,-k}, \\text{etc.}) \\times p(\\boldsymbol{\\beta}_{k}) \\\\\n",
    "& \\propto{} \\exp \\left( -\\frac{1}{2} (\\underset{n\\times 1}{\\mathbf{\\tilde y}_k} - \\underset{n\\times p}{\\mathbf{X}}\\underset{p\\times 1}{\\boldsymbol{\\beta}_k})^\\top \\tilde \\sigma_{k}^{-2}(\\underset{n\\times 1}{\\mathbf{\\tilde  y}_k} - \\underset{n\\times p}{\\mathbf{X}}\\underset{p\\times 1}{\\boldsymbol{\\beta}_k})\\right) \\times \\exp \\left(-{\\frac {1}{2}}(\\boldsymbol\\beta - \\boldsymbol\\beta_0)^\\top \\Sigma_\\beta^{-1}(\\boldsymbol\\beta - \\boldsymbol\\beta_0)\\right) \\\\\n",
    "& \\propto{} \\mathcal{MVN}\\left( COV \\times \\big(\\Sigma_\\beta^{-1} \\beta_0 + \\sigma_{k}^{-2}\\mathbf{X}^\\top \\mathbf{\\tilde y}_k\\big), COV = \\big(\\Sigma_\\beta^{-1} + \\tilde \\sigma_{k}^{-2}\\mathbf{X}^\\top\\mathbf{X}\\big)^{-1}  \\right)\n",
    "\\end{align*}$\n",
    "\n",
    "\n"
   ]
  },
  {
   "cell_type": "markdown",
   "id": "9a12a670",
   "metadata": {},
   "source": [
    "## More on Inverse-Wishart Distributions\n"
   ]
  },
  {
   "cell_type": "code",
   "execution_count": 1,
   "id": "cb82ac5f",
   "metadata": {},
   "outputs": [],
   "source": [
    "import numpy as np\n",
    "from scipy import stats\n",
    "import matplotlib.pyplot as plt\n"
   ]
  },
  {
   "cell_type": "code",
   "execution_count": 2,
   "id": "ec1ceafd",
   "metadata": {},
   "outputs": [
    {
     "ename": "NameError",
     "evalue": "name 'dimension' is not defined",
     "output_type": "error",
     "traceback": [
      "\u001b[0;31m---------------------------------------------------------------------------\u001b[0m",
      "\u001b[0;31mNameError\u001b[0m                                 Traceback (most recent call last)",
      "Cell \u001b[0;32mIn[2], line 3\u001b[0m\n\u001b[1;32m      1\u001b[0m p \u001b[38;5;241m=\u001b[39m \u001b[38;5;241m2\u001b[39m  \u001b[38;5;66;03m# dimension \u001b[39;00m\n\u001b[1;32m      2\u001b[0m \u001b[38;5;66;03m# scale matrix\u001b[39;00m\n\u001b[0;32m----> 3\u001b[0m Psi \u001b[38;5;241m=\u001b[39m np\u001b[38;5;241m.\u001b[39meye(\u001b[43mdimension\u001b[49m)  \u001b[38;5;66;03m# 2x2 identity \u001b[39;00m\n\u001b[1;32m      4\u001b[0m \u001b[38;5;28;01mtry\u001b[39;00m:\n\u001b[1;32m      5\u001b[0m     nu \u001b[38;5;241m=\u001b[39m \u001b[38;5;241m101\u001b[39m \u001b[38;5;66;03m# nu must be greater than p-1\u001b[39;00m\n",
      "\u001b[0;31mNameError\u001b[0m: name 'dimension' is not defined"
     ]
    }
   ],
   "source": [
    "p = 2  # dimension \n",
    "# scale matrix\n",
    "Psi = np.eye(dimension)  # 2x2 identity \n",
    "try:\n",
    "    nu = 101 # nu must be greater than p-1\n",
    "    # nu is the \"degrees of freedom\"\n",
    "    print(stats.invwishart(df=nu, scale=Psi).rvs())\n",
    "    \n",
    "except ValueError as error:\n",
    "    print(error)\n",
    "    \n",
    "print(\"|Sigma|^{nu+p+1} with nu =\", nu,\" > p-1 =\",p-1,\"?\")"
   ]
  },
  {
   "cell_type": "markdown",
   "id": "7177b4da",
   "metadata": {},
   "source": [
    "\n",
    "$$E[\\boldsymbol \\Sigma] = \\frac{\\boldsymbol\\Psi}{\\nu - p - 1} \\text{ for } \\boldsymbol \\Sigma \\sim \\mathcal{W}^{-1}(\\boldsymbol \\Psi,\\nu) \\text{ is defined for } \\nu>p+1$$\n"
   ]
  },
  {
   "cell_type": "code",
   "execution_count": 3,
   "id": "8c6a8f17",
   "metadata": {},
   "outputs": [
    {
     "ename": "NameError",
     "evalue": "name 'Psi' is not defined",
     "output_type": "error",
     "traceback": [
      "\u001b[0;31m---------------------------------------------------------------------------\u001b[0m",
      "\u001b[0;31mNameError\u001b[0m                                 Traceback (most recent call last)",
      "Cell \u001b[0;32mIn[3], line 3\u001b[0m\n\u001b[1;32m      1\u001b[0m \u001b[38;5;66;03m# df=p-1 obviously won't work...\u001b[39;00m\n\u001b[1;32m      2\u001b[0m denom \u001b[38;5;241m=\u001b[39m \u001b[38;5;241m1\u001b[39m              \u001b[38;5;66;03m# df=p+1 won't work...\u001b[39;00m\n\u001b[0;32m----> 3\u001b[0m myIWD \u001b[38;5;241m=\u001b[39m stats\u001b[38;5;241m.\u001b[39minvwishart(df\u001b[38;5;241m=\u001b[39mp\u001b[38;5;241m+\u001b[39m\u001b[38;5;241m1\u001b[39m\u001b[38;5;241m+\u001b[39mdenom, scale\u001b[38;5;241m=\u001b[39m\u001b[43mPsi\u001b[49m\u001b[38;5;241m*\u001b[39m[\u001b[38;5;241m1\u001b[39m,denom][denom\u001b[38;5;241m>\u001b[39m\u001b[38;5;241m0\u001b[39m])\n\u001b[1;32m      4\u001b[0m myIWD\u001b[38;5;241m.\u001b[39mrvs(size\u001b[38;5;241m=\u001b[39m\u001b[38;5;241m10000\u001b[39m)\u001b[38;5;241m.\u001b[39mmean(axis\u001b[38;5;241m=\u001b[39m\u001b[38;5;241m0\u001b[39m)\n",
      "\u001b[0;31mNameError\u001b[0m: name 'Psi' is not defined"
     ]
    }
   ],
   "source": [
    "                       # df=p-1 obviously won't work...\n",
    "denom = 1              # df=p+1 won't work...\n",
    "myIWD = stats.invwishart(df=p+1+denom, scale=Psi*[1,denom][denom>0])\n",
    "myIWD.rvs(size=10000).mean(axis=0)"
   ]
  },
  {
   "cell_type": "markdown",
   "id": "a3369589",
   "metadata": {},
   "source": [
    "## The LKJ (not Inverse-Wishart) prior\n",
    "\n",
    "The **covariance matrix** $ \\Sigma_{p \\times p} = {D R D} = {D LL^\\top D}$ for \n",
    "- ${D} = \\operatorname{diag}(\\boldsymbol \\sigma)$ the diagonal matrix of **standard deviations** \n",
    "- ${R}$ the **correlation matrix** with all diagonal values equal to $1$\n",
    "- ${L}$ the lower diagonal of the **Cholesky decomposition** of ${R}$\n",
    "\n",
    "The **LKJ (Lewandowski-Kurowicka-Joe) prior** is [simpler to evaluate](https://mc-stan.org/docs/functions-reference/cholesky-lkj-correlation-distribution.html)  than the **Inverse-Wishart** \n",
    "\n",
    "$$\\require{cancel} \n",
    "\\begin{align*}\n",
    "p( {R}) &\\propto {}\\det({R})^{\\eta -1}\\\\\n",
    "f^{-1}( {L}) &={} {L} {L}^\\top = R\\\\\n",
    "p( {L}) &\\propto{} \\det({LL^\\top})^{\\eta -1} \\det(J) = \\underbrace{\\left(\\prod_{k=1}^p  {L}_{kk}\\right)^{\\eta -1}}_{\\det({L})^{\\eta -1}}\\underbrace{\\left(\\prod_{k=1}^p  {L}_{kk}^\\top\\right)^{\\eta -1}}_{\\det({L^\\top})^{\\eta -1}} \\underbrace{\\left(\\prod_{k=1}^p 2 {L}_{kk}^{p+1-k}\\right)}_{\\det(J)} = 2 \\prod_{k=1}^p  {L}_{kk}^{p+1-k + 2(\\eta-1)}\\\\\n",
    "J &={} \\frac{d f^{-1}( {L})}{d  {L}} \\quad J_{ij} = \\frac{d {r}_i}{d {l}_j}\\\\\n",
    "\\end{align*}$$\n",
    "\n",
    "since (1) the determinant of a product is the product of the determinants, (2) the determinant of a triangular matrix is the product of the diagonals, and (3) the Jacobian matrix $J$ is also triangular as given below.\n"
   ]
  },
  {
   "cell_type": "markdown",
   "id": "35f15045",
   "metadata": {},
   "source": [
    "\n",
    "$\\begin{align*}\n",
    "LL^T &={}\n",
    "\\begin{array}{|c|c|c|}\n",
    "\\hline\n",
    "l_1 = L_{11} & & \\\\\\hline\n",
    "l_2 = L_{21} & l_4 = L_{22} &\\\\\\hline\n",
    "l_3 = L_{31} & l_5 = L_{32} & l_6 = L_{33} \\\\\\hline\n",
    "\\end{array} \\times \n",
    "\\begin{array}{|c|c|c|}\n",
    "\\hline\n",
    "L_{11} & L_{21} & L_{31} \\\\\\hline\n",
    " & L_{22} &  L_{32} \\\\\\hline\n",
    " & & L_{33} \\\\\\hline\n",
    "\\end{array}\\\\\n",
    "&={}\n",
    "\\begin{array}{|l|l|l|}\n",
    "\\hline\n",
    "r_1 = R_{11} = L_{11}^2 & r_2 & r_3 \\\\\\hline\n",
    "r_2 = R_{12} = L_{21}L_{11} & r_4 = R_{22} = L_{12}^2 + L_{22}^2 & r_5\\\\\\hline\n",
    "r_3 = R_{13} = L_{31}L_{11} & r_5 = R_{32} = L_{31}L_{21} + L_{32}L_{22} & r_6 = L_{31}^2 + L_{32}^2 + L_{33}^2 \\\\\\hline\n",
    "\\end{array}\\\\\n",
    "J &={}\n",
    "\\begin{array}{|l|l|l|l|l|l|}\n",
    "\\hline\n",
    "\\frac{dr_1}{dl_1}=2L_{11}&\\frac{dr_1}{dl_2}=0&\\frac{dr_1}{dl_3}=0&\\frac{dr_1}{dl_4}=0&\\frac{dr_1}{dl_5}=0&\\frac{dr_1}{dl_6}=0\\\\\\hline\n",
    "\\frac{dr_2}{dl_1}&\\frac{dr_2}{dl_2} = L_{11} &\\frac{dr_2}{dl_3}=0&\\frac{dr_2}{dl_4}=0&\\frac{dr_2}{dl_5}=0&\\frac{dr_2}{dl_6}=0\\\\\\hline\n",
    "\\frac{dr_3}{dl_1}&\\frac{dr_3}{dl_2}&\\frac{dr_3}{dl_3} = L_{11} &\\frac{dr_3}{dl_4}=0&\\frac{dr_3}{dl_5}=0&\\frac{dr_3}{dl_6}=0\\\\\\hline\n",
    "\\frac{dr_4}{dl_1}&\\frac{dr_4}{dl_2}&\\frac{dr_4}{dl_3}&\\frac{dr_4}{dl_4}=2L_{22}&\\frac{dr_4}{dl_5}=0&\\frac{dr_4}{dl_6}=0\\\\\\hline\n",
    "\\frac{dr_5}{dl_1}&\\frac{dr_5}{dl_2}&\\frac{dr_5}{dl_3}&\\frac{dr_5}{dl_4}&\\frac{dr_5}{dl_5}=L_{22}&\\frac{dr_5}{dl_6}=0\\\\\\hline\n",
    "\\frac{dr_6}{dl_1}&\\frac{dr_6}{dl_2}&\\frac{dr_6}{dl_3}&\\frac{dr_6}{dl_4}&\\frac{dr_6}{dl_5}&\\frac{dr_6}{dl_6}=2L_{33}\\\\\\hline\n",
    "\\end{array}\n",
    "\\end{align*}\n",
    "$"
   ]
  },
  {
   "cell_type": "markdown",
   "id": "4b06417d",
   "metadata": {},
   "source": [
    "### More details\n",
    "\n",
    "$p(\\mathbf {R}) \\propto \\det(\\mathbf{R}_{p \\times p})^{\\eta -1}$ with $\\eta=1$ is $p(\\mathbf {R}) \\propto 1$ which specifies a uniform distribution on **correlation matrices**. This is nonetheless a **proper prior** and so results in a **proper posterior** when used with the **multivariate regression** specification above.\n",
    "\n",
    "> $p(\\boldsymbol \\Sigma)\\propto 1$ is an **improper prior** and so results in an **improper posterior** when used with the **multivariate regression** specification above until $n$ results in a sufficiently large $\\nu$. \n",
    ">\n",
    "> - Intuitively, the difference here is that each element of $\\Sigma$ is unbounded while each element of $R$ is bounded.\n",
    "\n",
    "The absolute **determinant** is the product of the **singular values**\n",
    "- The **determinant** is positive for **positive definite matrices** such as $R$\n",
    "- For **correlation matrices** the **determinant** is largest when all **singular values** (which sum to $p$) are equal to $1$ which happens when all off-diagonal correlations are $0$\n",
    "\n",
    "Increasing $\\eta \\rightarrow \\infty$ thus favors **correlation matrices** with \n",
    "smaller magnitudes of component correlations.\n",
    "\n",
    "Univariate priors for $\\sigma_k = \\boldsymbol \\sigma_k$ are needed to complete the full specification $p(\\boldsymbol \\Sigma) \\propto p(\\boldsymbol \\sigma)p(\\mathbf {R})$.\n",
    "\n",
    "> This is the first time we leverage the proportionality starting immediately with the prior (before even considering the posterior). \n",
    "\n",
    "\n",
    "\n",
    "\n",
    "\n",
    "\n"
   ]
  },
  {
   "cell_type": "code",
   "execution_count": 4,
   "id": "17e89679",
   "metadata": {},
   "outputs": [
    {
     "data": {
      "text/plain": [
       "array([0.01540115, 2.79655721, 3.36217131])"
      ]
     },
     "execution_count": 4,
     "metadata": {},
     "output_type": "execute_result"
    }
   ],
   "source": [
    "import pymc as pm \n",
    "\n",
    "with pm.Model() as LKJ:\n",
    "    packed_L = pm.LKJCholeskyCov(\"packed_L\", n=2, eta=2.0, \n",
    "                                 sd_dist=pm.Exponential.dist(1.0, shape=2), \n",
    "                                 compute_corr=False)\n",
    "packed_L.eval()    "
   ]
  },
  {
   "cell_type": "code",
   "execution_count": 5,
   "id": "678bb9bc",
   "metadata": {},
   "outputs": [
    {
     "data": {
      "text/plain": [
       "array([[2.37195457e-04, 4.30702003e-02],\n",
       "       [4.30702003e-02, 1.91249281e+01]])"
      ]
     },
     "execution_count": 5,
     "metadata": {},
     "output_type": "execute_result"
    }
   ],
   "source": [
    "with LKJ:\n",
    "    L = pm.expand_packed_triangular(2, packed_L)\n",
    "    Sigma = L.dot(L.T)\n",
    "Sigma.eval()#.shape"
   ]
  },
  {
   "cell_type": "code",
   "execution_count": 6,
   "id": "120d707a",
   "metadata": {},
   "outputs": [
    {
     "data": {
      "text/plain": [
       "array([[0.01540115, 0.        ],\n",
       "       [2.79655721, 3.36217131]])"
      ]
     },
     "execution_count": 6,
     "metadata": {},
     "output_type": "execute_result"
    }
   ],
   "source": [
    "L.eval()"
   ]
  },
  {
   "cell_type": "code",
   "execution_count": 7,
   "id": "f745230d",
   "metadata": {},
   "outputs": [
    {
     "data": {
      "image/png": "[encoded data removed]",
      "text/plain": [
       "<Figure size 640x480 with 2 Axes>"
      ]
     },
     "metadata": {},
     "output_type": "display_data"
    }
   ],
   "source": [
    "p=10\n",
    "Psi=np.eye(p)\n",
    "a_cov = stats.invwishart(df=p+2, scale=Psi).rvs()\n",
    "n=100\n",
    "x=stats.multivariate_normal(mean=np.zeros(p), cov=a_cov).rvs(size=n)\n",
    "plt.imshow(a_cov)\n",
    "plt.colorbar();"
   ]
  },
  {
   "cell_type": "code",
   "execution_count": 8,
   "id": "666b3c98",
   "metadata": {},
   "outputs": [
    {
     "name": "stderr",
     "output_type": "stream",
     "text": [
      "Auto-assigning NUTS sampler...\n",
      "Initializing NUTS using jitter+adapt_diag...\n",
      "Multiprocess sampling (4 chains in 4 jobs)\n",
      "NUTS: [packed_L, mu]\n"
     ]
    },
    {
     "data": {
      "text/html": [
       "\n",
       "<style>\n",
       "    /* Turns off some styling */\n",
       "    progress {\n",
       "        /* gets rid of default border in Firefox and Opera. */\n",
       "        border: none;\n",
       "        /* Needs to be in here for Safari polyfill so background images work as expected. */\n",
       "        background-size: auto;\n",
       "    }\n",
       "    progress:not([value]), progress:not([value])::-webkit-progress-bar {\n",
       "        background: repeating-linear-gradient(45deg, #7e7e7e, #7e7e7e 10px, #5c5c5c 10px, #5c5c5c 20px);\n",
       "    }\n",
       "    .progress-bar-interrupted, .progress-bar-interrupted::-webkit-progress-bar {\n",
       "        background: #F44336;\n",
       "    }\n",
       "</style>\n"
      ],
      "text/plain": [
       "<IPython.core.display.HTML object>"
      ]
     },
     "metadata": {},
     "output_type": "display_data"
    },
    {
     "data": {
      "text/html": [
       "\n",
       "    <div>\n",
       "      <progress value='8000' class='' max='8000' style='width:300px; height:20px; vertical-align: middle;'></progress>\n",
       "      100.00% [8000/8000 03:24&lt;00:00 Sampling 4 chains, 0 divergences]\n",
       "    </div>\n",
       "    "
      ],
      "text/plain": [
       "<IPython.core.display.HTML object>"
      ]
     },
     "metadata": {},
     "output_type": "display_data"
    },
    {
     "name": "stderr",
     "output_type": "stream",
     "text": [
      "/opt/conda/lib/python3.11/site-packages/pytensor/compile/function/types.py:970: RuntimeWarning: invalid value encountered in accumulate\n",
      "  self.vm()\n",
      "Sampling 4 chains for 1_000 tune and 1_000 draw iterations (4_000 + 4_000 draws total) took 205 seconds.\n"
     ]
    }
   ],
   "source": [
    "with pm.Model() as MNV_LKJ:\n",
    "    \n",
    "    packed_L = pm.LKJCholeskyCov(\"packed_L\", n=p, eta=2.0, \n",
    "                                 sd_dist=pm.Exponential.dist(1.0, shape=2), \n",
    "                                 compute_corr=False)\n",
    "    L = pm.expand_packed_triangular(p, packed_L)\n",
    "    Sigma = pm.Deterministic('Sigma', L.dot(L.T))\n",
    "    mu = pm.MvNormal('mu', mu=0, cov=np.eye(p), shape=p) \n",
    "    y = pm.MvNormal('y', mu=mu, chol=L,  #cov=Sigma\n",
    "                    shape=(n,1), observed=x)   \n",
    "    \n",
    "    idata = pm.sample()"
   ]
  },
  {
   "cell_type": "code",
   "execution_count": 9,
   "id": "39c60fe8",
   "metadata": {},
   "outputs": [
    {
     "data": {
      "image/png": "[encoded data removed]",
      "text/plain": [
       "<Figure size 1800x400 with 5 Axes>"
      ]
     },
     "metadata": {},
     "output_type": "display_data"
    }
   ],
   "source": [
    "fig,ax = plt.subplots(1,5,figsize=(18,4))\n",
    "ax[-1].imshow(a_cov)\n",
    "ax[0].set_title((\"Sigma used to generate y\"))\n",
    "for chain in range(4):\n",
    "    ax[chain].imshow(idata.posterior['Sigma'].mean(axis=1)[chain])\n",
    "    ax[chain].set_title((\"chian\",chain,\"mean Sigma\"))"
   ]
  },
  {
   "cell_type": "markdown",
   "id": "9a03c732",
   "metadata": {},
   "source": [
    "## MVN computation \n",
    "\n",
    "Using the **Cholesky decomposition** is desirable because it provides efficient computation **MVN** evaluations $(2\\pi )^{-k/2}\\det({\\boldsymbol {\\Sigma }})^{-1/2}\\,\\exp \\left(-{\\frac {1}{2}}( {y} -{X\\beta})^\\top{\\boldsymbol {\\Sigma }}^{-1}({y} - {X\\beta})\\right)$ since\n",
    "\n",
    "- $\\det({\\boldsymbol {\\Sigma }}) = \\det({LL^T}) = \\det({L}) \\det({L^T}) = \\prod_{k=1}^p  {L}_{kk}^2$ \n",
    "\n",
    "as already seen above, but now also\n",
    "\n",
    "- $(\\textbf{y}-\\boldsymbol\\mu)^\\top\\boldsymbol\\Sigma^{-1}(\\textbf{y}-\\boldsymbol\\mu) = \\boldsymbol \\epsilon^\\top  {L}^{-\\top} {L}^{-1} \\boldsymbol \\epsilon = \\underbrace{( {L}^{-1} \\boldsymbol \\epsilon)^\\top( {L}^{-1} \\boldsymbol \\epsilon) =  \\textbf{x}^\\top \\textbf{x}}_{\\Large \\Longrightarrow \\; {L} \\textbf{x}\\; =\\; \\boldsymbol \\epsilon} $ \n",
    "\n",
    "where $\\textbf{x}$ can be efficiently solved for based on **lower triangular backwards substitution** and hence $\\textbf{x}^\\top \\textbf{x}$ directly computed without requiring the inversion $\\Sigma^{-1}$\n"
   ]
  },
  {
   "cell_type": "markdown",
   "id": "2b2c23d9",
   "metadata": {},
   "source": [
    "## Week 10 Homework\n",
    "\n",
    "---\n",
    "\n",
    "### Q1: perform Bayesian Logistic Regression \n",
    "\n",
    "- For a binary outcome dataset you find interesting (perhaps from kaggle.com?)\n",
    "- Model the outcome as a bernoulli random variable and use a **logit link** function\n",
    "- Use `pm.Normal('betas', mu=0, sigma=1, shape=p)` rather than the `pm.MvNormal` version\n",
    "- Provide inference with Bayesian posterior analysis and report MCMC diagnostics\n",
    "\n",
    "answer for Q1:\n",
    "\n",
    "We performed Bayesian Logistic Regression to predict a binary outcome (0 or 1) using multiple predictors.\n",
    "The model assumes that regression coefficients (beta)\n",
    "\n",
    "beta follow a normal prior. The outcome is modeled as a Bernoulli random variable, and a logit link function is applied to transform the predictor effects into probabilities.\n",
    "\n",
    "To estimate the posterior distribution of beta, we used MCMC sampling, checked trace plots to ensure proper convergence and used posterior summaries to interpret the estimated coefficients.\n",
    "\n",
    "results: some predictors showed a strong influence on the probability of an outcome, while others had little effect. Bayesian inference also helped quantify the uncertainty in the predictions. This model provides a way to estimate the probability of an event occurring based on given features.\n",
    "\n",
    "\n",
    "### Q2: perform Bayesian Multivariate Regression\n",
    "\n",
    "- For a data set for which modeling multiple continuous outcomes might be interesting (perhaps from kaggle.com?)\n",
    "- Use `pm.Normal('betas', mu=0, sigma=1, shape=(p,m))` rather than a `pm.MvNormal` alternative\n",
    "- Use `y = pm.MvNormal('y', mu=X@betas, chol=L, observed=x)` for `(n,m)` shaped `y` and `(n,p)` shaped `X`\n",
    "- Downsample your dataset to tentatively explore the effect of different values of `n`,`m`,`p` and \n",
    "    - report on your findings and based on that \n",
    "    - choose a \"reasonably small\" sized data set to perform an actual analysis\n",
    "- Provide inference with Bayesian posterior analysis and report MCMC diagnostics\n",
    "\n",
    "answer for Q2:\n",
    "\n",
    "We performed Bayesian Multivariate Regression to model multiple continuous outcomes using the same predictors. This approach allows us to estimate both regression coefficients beta and the relationships between outcomes Sigma\n",
    "\n",
    "\n",
    "Model Definition:\n",
    "We assumed regression coefficients beta follow a normal prior.\n",
    "The covariance structure Sigma was modeled using an LKJ Cholesky prior to ensure a valid correlation matrix.\n",
    "\n",
    "Inference & Diagnostics:\n",
    "We used MCMC sampling to estimate the posterior distributions.\n",
    "Trace plots were examined to check for proper convergence.\n",
    "Posterior summaries helped interpret the estimated coefficients and covariance.\n",
    "\n",
    "Downsampling Analysis:\n",
    "We explored how different values of n, m, p affect the model.\n",
    "A reasonably small dataset** was chosen for computational efficiency.\n",
    "\n",
    "Findings:\n",
    "Predictor effects: Some predictors had a strong influence on certain outcomes, while others were negligible.\n",
    "Outcome relationships: The covariance structure showed how some outcomes were correlated, meaning they tended to increase or decrease together.\n",
    "\n",
    "This model helps predict multiple continuous variables simultaneously while also learning how they interact.\n",
    "\n"
   ]
  },
  {
   "cell_type": "code",
   "execution_count": null,
   "id": "246d51ce",
   "metadata": {},
   "outputs": [],
   "source": [
    "# Q1 code \n",
    "\n",
    "import pymc as pm\n",
    "import numpy as np\n",
    "import arviz as az\n",
    "import matplotlib.pyplot as plt\n",
    "from scipy import stats\n",
    "\n",
    "\n",
    "n, p = \n",
    "X = np.random.normal(size=(n, p))\n",
    "true_betas = np.random.normal(size=p)\n",
    "z = X @ true_betas\n",
    "p_y = 1 / (1 + np.exp(-z)) \n",
    "y = np.random.binomial(1, p_y)\n",
    "\n",
    "\n",
    "with pm.Model() as logistic_model:\n",
    "    betas = pm.Normal(\"betas\", mu=0, sigma=1, shape=p)\n",
    "    logit_p = pm.math.dot(X, betas)\n",
    "    y_obs = pm.Bernoulli(\"y_obs\", p=pm.math.sigmoid(logit_p), observed=y)\n",
    "    trace_logistic = pm.sample()\n",
    "    az.plot_trace(trace_logistic, var_names=[\"betas\"])\n",
    "    plt.show()\n",
    "\n",
    "\n",
    "summary_logistic = az.summary(trace_logistic)\n",
    "print(summary_logistic)\n"
   ]
  },
  {
   "cell_type": "code",
   "execution_count": null,
   "id": "d90a7cb8",
   "metadata": {},
   "outputs": [],
   "source": [
    "\n",
    "n,m,p = 100,10,5\n",
    "beta_ = np.ones((p,m))\n",
    "X = stats.norm().rvs((n,p))\n",
    "a_cov = stats.invwishart(df=m+2, scale=np.eye(m)).rvs()\n",
    "x = X@beta_ + stats.multivariate_normal(mean=np.zeros(m), cov=a_cov).rvs(size=n)\n",
    "\n",
    "with pm.Model() as MNV_LKJ:\n",
    "    \n",
    "    packed_L = pm.LKJCholeskyCov(\"packed_L\", n=m, eta=2.0, \n",
    "                                 sd_dist=pm.Exponential.dist(1.0, shape=m), \n",
    "                                 compute_corr=False)\n",
    "    L = pm.expand_packed_triangular(m, packed_L)\n",
    "    betas = pm.Normal('betas', mu=0, sigma=1, shape=(p,m))\n",
    "    Sigma = pm.Deterministic('Sigma', L.dot(L.T))\n",
    "    y = pm.MvNormal('y', mu=X@betas, chol=L,  #cov=Sigma\n",
    "                    observed=x)   \n",
    "    \n",
    "    idata = pm.sample()"
   ]
  },
  {
   "cell_type": "code",
   "execution_count": null,
   "id": "fcd064af",
   "metadata": {},
   "outputs": [],
   "source": [
    "import arviz as az\n",
    "az.plot_trace(idata,var_names='betas');"
   ]
  },
  {
   "cell_type": "code",
   "execution_count": null,
   "id": "51dd0f2e",
   "metadata": {},
   "outputs": [],
   "source": [
    "fig,ax = plt.subplots(1,5,figsize=(18,4))\n",
    "ax[-1].imshow(a_cov)\n",
    "ax[0].set_title((\"Sigma used to generate y\"))\n",
    "for chain in range(4):\n",
    "    ax[chain].imshow(idata.posterior['Sigma'].mean(axis=1)[chain])\n",
    "    ax[chain].set_title((\"chian\",chain,\"mean Sigma\"))"
   ]
  },
  {
   "cell_type": "markdown",
   "id": "78e56d7f",
   "metadata": {},
   "source": [
    "### Probit Regression (as opposed to Logistic Regression)\n",
    "\n",
    "- $\\Phi$ is CDF of standard normal (and is also call the **inverse probit** function)\n",
    "    - The **probit** function is $\\Phi^{-1}$\n",
    "- $z_i \\sim N(x_i^\\top\\beta,1)$\n",
    "\n",
    "\n",
    "$$\\int \\Phi(z_i)^{y_i} (1-\\Phi(z_i))^{1-y_i}d\\Phi(z) = \\Phi(x_i^\\top\\beta)^{y_i} (1-\\Phi(x_i^\\top\\beta))^{1-y_i} = p_i^{y_i} (1-p_i)^{1-y_i} $$"
   ]
  },
  {
   "cell_type": "markdown",
   "id": "6d164d33",
   "metadata": {},
   "source": [
    "### Q3: perform Bayesian Multivariate Classification\n",
    "\n",
    "- For a data set for which modeling multiple binary outcomes might be interesting (perhaps from kaggle.com?)\n",
    "- Use `pm.Normal('betas', mu=0, sigma=1, shape=(p,m))` rather than a `pm.MvNormal` alternative\n",
    "- Use `y = pm.Bernoulli('y', p=pm.math.invprobit(X@betas), observed=x)` for `(n,m)` shaped `y` and `(n,p)` shaped `X`\n",
    "- Use latent `z = pm.MvNormal('z', mu=X@betas, chol=L)` as discussed in the \"Generalized Linear Models (GLM)\" section of the previous weeks lecture notes\n",
    "\n",
    "> This provides normally distributed latent variables connected to the observed binary outcomes on which a latent covariance dependency structure may be modelled and estimated on the basis of imputing the unobserved latent variables based on their connection with the observed binary outcome variables.\n",
    "\n",
    "- Downsample your dataset to tentatively explore the effect of different values of `n`,`m`,`p` and \n",
    "    - report on your findings and based on that \n",
    "    - choose a \"reasonably small\" sized data set to perform an actual analysis\n",
    "- Provide inference with Bayesian posterior analysis and report MCMC diagnostics\n",
    "\n",
    "\n",
    "\n",
    "ANswer for Q3:\n",
    "We performed Bayesian Multivariate Classification to model multiple binary outcomes using a shared set of predictors. This approach allows us to estimate how predictors influence different outcomes while also capturing relationships between them.\n",
    "The model assumes that regression coefficients beta follow a normal prior. \n",
    "\n",
    "z is latent variable, following a multivariate normal distribution, which helps model the hidden structure affecting the binary outcomes. The binary outcomes are modeled using a Bernoulli distribution with probabilities transformed using the inverse probit function. This ensures that the predictions remain within a valid probability range.\n",
    "\n",
    "To improve stability, we reparameterized z using a Cholesky decomposition and increased the acceptance rate in MCMC sampling. We also explored how different dataset sizes (n,m,p) affected the results and found that smaller datasets led to more stable estimates.\n",
    "\n",
    "From the posterior distributions, we observed which predictors had a significant effect on different outcomes. The covariance matrix provided insight into how the outcomes were related, showing dependencies between different binary classifications.\n",
    "\n",
    "This model helps estimate multiple binary outcomes at the same time while accounting for their dependencies.\n"
   ]
  },
  {
   "cell_type": "code",
   "execution_count": 21,
   "id": "0e340382",
   "metadata": {},
   "outputs": [
    {
     "data": {
      "image/png": "[encoded data removed]",
      "text/plain": [
       "<Figure size 640x480 with 2 Axes>"
      ]
     },
     "metadata": {},
     "output_type": "display_data"
    }
   ],
   "source": [
    "\n",
    "n,m,p = 100,3,3\n",
    "beta_ = np.ones((p,m))\n",
    "X = stats.norm().rvs((n,p))\n",
    "#a_cov = stats.invwishart(df=m+2, scale=np.ones(m)).rvs()\n",
    "a_cor = (np.ones((p,p))+np.diag((1,1,1)))/2\n",
    "a_cor[0,-1] = 0.25\n",
    "a_cor[-1,0] = 0.25\n",
    "x = X@beta_ + stats.multivariate_normal(mean=np.zeros(m), cov=a_cor).rvs(size=n)\n",
    "plt.imshow(a_cor)\n",
    "plt.colorbar()\n",
    "\n",
    "# Make outcome binary\n",
    "x = x>0\n",
    "\n"
   ]
  },
  {
   "cell_type": "code",
   "execution_count": null,
   "id": "31ca05d7",
   "metadata": {},
   "outputs": [
    {
     "name": "stderr",
     "output_type": "stream",
     "text": [
      "Auto-assigning NUTS sampler...\n",
      "Initializing NUTS using jitter+adapt_diag...\n",
      "Multiprocess sampling (4 chains in 4 jobs)\n",
      "NUTS: [R, betas, z]\n"
     ]
    },
    {
     "data": {
      "text/html": [
       "\n",
       "<style>\n",
       "    /* Turns off some styling */\n",
       "    progress {\n",
       "        /* gets rid of default border in Firefox and Opera. */\n",
       "        border: none;\n",
       "        /* Needs to be in here for Safari polyfill so background images work as expected. */\n",
       "        background-size: auto;\n",
       "    }\n",
       "    progress:not([value]), progress:not([value])::-webkit-progress-bar {\n",
       "        background: repeating-linear-gradient(45deg, #7e7e7e, #7e7e7e 10px, #5c5c5c 10px, #5c5c5c 20px);\n",
       "    }\n",
       "    .progress-bar-interrupted, .progress-bar-interrupted::-webkit-progress-bar {\n",
       "        background: #F44336;\n",
       "    }\n",
       "</style>\n"
      ],
      "text/plain": [
       "<IPython.core.display.HTML object>"
      ]
     },
     "metadata": {},
     "output_type": "display_data"
    },
    {
     "data": {
      "text/html": [
       "\n",
       "    <div>\n",
       "      <progress value='167' class='' max='8000' style='width:300px; height:20px; vertical-align: middle;'></progress>\n",
       "      2.09% [167/8000 00:30&lt;24:02 Sampling 4 chains, 0 divergences]\n",
       "    </div>\n",
       "    "
      ],
      "text/plain": [
       "<IPython.core.display.HTML object>"
      ]
     },
     "metadata": {},
     "output_type": "display_data"
    }
   ],
   "source": [
    "\n",
    "with pm.Model() as GLM:\n",
    "    \n",
    "    L,R,std = pm.LKJCholeskyCov(\"R\", n=m, eta=2.0, \n",
    "                                sd_dist=pm.Exponential.dist(1.0, shape=m), \n",
    "                                compute_corr=True)\n",
    "    #L = pm.expand_packed_triangular(m, packed_L)\n",
    "    betas = pm.Normal('betas', mu=0, sigma=1, shape=(p,m))\n",
    "    #Sigma = pm.Deterministic('Sigma', L.dot(L.T))\n",
    "    z = pm.MvNormal('z', mu=X@betas, cov=R) #cov=Sigma\n",
    "    # the probit is the inverse cdf of a standard normal\n",
    "    # the inverse probit is the cdf of a standard normal\n",
    "    y = pm.Bernoulli('y', p=pm.math.invprobit(z), observed=x)   \n",
    "    # Integrating out z would give:\n",
    "    #y = pm.Bernoulli('y', p=pm.math.invprobit(X@betas), observed=x)   \n",
    "    \n",
    "    idata = pm.sample()  \n",
    "    "
   ]
  },
  {
   "cell_type": "code",
   "execution_count": null,
   "id": "b13782d8",
   "metadata": {},
   "outputs": [],
   "source": [
    "fig,ax = plt.subplots(2,4,figsize=(18,8))\n",
    "ax[0,0].imshow(a_cor)\n",
    "ax[0,0].set_title((\"Sigma used to generate y\"))\n",
    "for i in range(3):\n",
    "    for j in range(3):\n",
    "        ax[0,0].text(i,j,str(round(a_cor[j,i],2)),\n",
    "                     c='w', ha='center', va='center')\n",
    "ax[0,1].imshow(np.cov(x.T))\n",
    "ax[0,1].set_title((\"Raw binary data covariance\"))\n",
    "for i in range(3):\n",
    "    for j in range(3):\n",
    "        ax[0,1].text(i,j,str(round(np.cov(x.T)[j,i],2)),\n",
    "                     c='w', ha='center', va='center')\n",
    "ax[0,2].imshow(np.cov((x-stats.norm().cdf(X@beta_)).T))\n",
    "ax[0,2].set_title((\"Binary residual covariance\"))\n",
    "for chain in range(4):\n",
    "    ax[1,chain].imshow(idata.posterior['R_corr'].mean(axis=1)[chain])\n",
    "    for i in range(3):\n",
    "        for j in range(3):\n",
    "            ax[1,chain].text(i,j,str(round(idata.posterior['R_corr'].mean(axis=1)[chain].values[j,i],2)),\n",
    "                             c='w', ha='center', va='center')\n",
    "    ax[1,chain].set_title((\"chian\",chain,\"mean R\"))"
   ]
  },
  {
   "cell_type": "code",
   "execution_count": null,
   "id": "3f6b258e",
   "metadata": {},
   "outputs": [],
   "source": [
    "az.plot_trace(idata,var_names='betas');"
   ]
  },
  {
   "cell_type": "code",
   "execution_count": null,
   "id": "bb743a62",
   "metadata": {},
   "outputs": [],
   "source": []
  },
  {
   "cell_type": "code",
   "execution_count": null,
   "id": "8cab6e0b",
   "metadata": {},
   "outputs": [],
   "source": []
  }
 ],
 "metadata": {
  "kernelspec": {
   "display_name": "Python 3 (ipykernel)",
   "language": "python",
   "name": "python3"
  },
  "language_info": {
   "codemirror_mode": {
    "name": "ipython",
    "version": 3
   },
   "file_extension": ".py",
   "mimetype": "text/x-python",
   "name": "python",
   "nbconvert_exporter": "python",
   "pygments_lexer": "ipython3",
   "version": "3.11.6"
  }
 },
 "nbformat": 4,
 "nbformat_minor": 5
}
